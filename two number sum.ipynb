{
 "cells": [
  {
   "cell_type": "code",
   "execution_count": 1,
   "id": "70c98bb9",
   "metadata": {},
   "outputs": [
    {
     "name": "stdout",
     "output_type": "stream",
     "text": [
      "Requirement already satisfied: pytest in c:\\users\\elisa\\anaconda3\\lib\\site-packages (6.2.4)\n",
      "Collecting pytest-sugar\n",
      "  Downloading pytest_sugar-0.9.5-py2.py3-none-any.whl (9.0 kB)\n",
      "Requirement already satisfied: attrs>=19.2.0 in c:\\users\\elisa\\anaconda3\\lib\\site-packages (from pytest) (21.2.0)\n",
      "Requirement already satisfied: iniconfig in c:\\users\\elisa\\anaconda3\\lib\\site-packages (from pytest) (1.1.1)\n",
      "Requirement already satisfied: packaging in c:\\users\\elisa\\anaconda3\\lib\\site-packages (from pytest) (21.0)\n",
      "Requirement already satisfied: pluggy<1.0.0a1,>=0.12 in c:\\users\\elisa\\anaconda3\\lib\\site-packages (from pytest) (0.13.1)\n",
      "Requirement already satisfied: py>=1.8.2 in c:\\users\\elisa\\anaconda3\\lib\\site-packages (from pytest) (1.10.0)\n",
      "Requirement already satisfied: toml in c:\\users\\elisa\\anaconda3\\lib\\site-packages (from pytest) (0.10.2)\n",
      "Requirement already satisfied: atomicwrites>=1.0 in c:\\users\\elisa\\anaconda3\\lib\\site-packages (from pytest) (1.4.0)\n",
      "Requirement already satisfied: colorama in c:\\users\\elisa\\anaconda3\\lib\\site-packages (from pytest) (0.4.4)\n",
      "Collecting termcolor>=1.1.0\n",
      "  Downloading termcolor-2.0.1-py3-none-any.whl (5.4 kB)\n",
      "Requirement already satisfied: pyparsing>=2.0.2 in c:\\users\\elisa\\anaconda3\\lib\\site-packages (from packaging->pytest) (3.0.4)\n",
      "Installing collected packages: termcolor, pytest-sugar\n",
      "Successfully installed pytest-sugar-0.9.5 termcolor-2.0.1\n"
     ]
    }
   ],
   "source": [
    "!pip install pytest pytest-sugar"
   ]
  },
  {
   "cell_type": "code",
   "execution_count": 23,
   "id": "9561f8e5",
   "metadata": {},
   "outputs": [
    {
     "name": "stdout",
     "output_type": "stream",
     "text": [
      "Overwriting test_data.py\n"
     ]
    }
   ],
   "source": [
    "%%file test_data.py\n",
    "import pytest\n",
    "\n",
    "def twoNumberSum(array, targetSum):\n",
    "    #creating a dictionary to be able to \"store\", which will work as a hash table\n",
    "    saved_values = {}\n",
    "    #creating a list to save the pairs that the sum hits the target\n",
    "    solution = []\n",
    "\n",
    "    for i in range(len(array)):\n",
    "        #knowing that the \"y\" is the missing number for the \"x\" to reach the target, we can follow the following configuration\n",
    "        y = targetSum - array[i]\n",
    "        if y in saved_values:\n",
    "            #here it is possible to store the values\n",
    "            return [y, array[i]]\n",
    "        saved_values[array[i]] = array[i]\n",
    "    return []\n",
    "\n",
    "@pytest.fixture(scope=\"session\")\n",
    "def data():\n",
    "    \n",
    "    array = []\n",
    "    \n",
    "    # test 1 data\n",
    "    array.append([3, 5, -4, 8, 11, 1, -1, 6])\n",
    "\n",
    "    # test 2 data\n",
    "    array.append([4, 6, 1, -3])\n",
    "\n",
    "    # test 3 data\n",
    "    array.append([1, 2, 3, 4, 5, 6, 7, 8, 9, 15])\n",
    "\n",
    "    # test 4 data\n",
    "    array.append([15])\n",
    "\n",
    "    # test 5 data\n",
    "    array.append([-21, 301, 12, 4, 65, 56, 210, 356, 9, -47])\n",
    "\n",
    "    # test 6 data\n",
    "    array.append([-21, 301, 12, 4, 65, 56, 210, 356, 9, -47])\n",
    "\n",
    "    # test 7 data\n",
    "    array.append([-7, -5, -3, -1, 0, 1, 3, 5, 7])\n",
    "    \n",
    "    return array\n",
    "\n",
    "def test_1(data):\n",
    "    \"\"\"\n",
    "    Test evaluation for [3, 5, -4, 8, 11, 1, -1, 6] and target 10\n",
    "    \"\"\"\n",
    "    assert twoNumberSum(data[0],10) == [11,-1]\n",
    "\n",
    "\n",
    "def test_2(data):\n",
    "    \"\"\"\n",
    "    Test evaluation for [4, 6, 1, -3] and target 3\n",
    "    \"\"\"\n",
    "    assert twoNumberSum(data[1],3) == [6,-3]\n",
    "\n",
    "def test_3(data):\n",
    "    \"\"\"\n",
    "    Test evaluation for [1, 2, 3, 4, 5, 6, 7, 8, 9, 15] and target 26\n",
    "    \"\"\"\n",
    "    assert twoNumberSum(data[2],26) == []\n",
    "\n",
    "def test_4(data):\n",
    "    \"\"\"\n",
    "    Test evaluation for [15] and target 15\n",
    "    \"\"\"\n",
    "    assert twoNumberSum(data[3],15) == []\n",
    "\n",
    "def test_5(data):\n",
    "    \"\"\"\n",
    "    Test evaluation for [-21, 301, 12, 4, 65, 56, 210, 356, 9, -47] and target 164\n",
    "    \"\"\"\n",
    "    assert twoNumberSum(data[4],164) == [] \n",
    "\n",
    "def test_6(data):\n",
    "    \"\"\"\n",
    "    Test evaluation for [-21, 301, 12, 4, 65, 56, 210, 356, 9, -47] and target 163\n",
    "    \"\"\"\n",
    "    assert twoNumberSum(data[5],163) == [210, -47] \n",
    "\n",
    "def test_7(data):\n",
    "    \"\"\"\n",
    "    Test evaluation for [-7, -5, -3, -1, 0, 1, 3, 5, 7] and target -5\n",
    "    \"\"\"\n",
    "    assert twoNumberSum(data[6],-5) == [-5, 0]"
   ]
  },
  {
   "cell_type": "code",
   "execution_count": 24,
   "id": "3f44ba91",
   "metadata": {},
   "outputs": [
    {
     "name": "stdout",
     "output_type": "stream",
     "text": [
      "============================= test session starts =============================\n",
      "platform win32 -- Python 3.9.7, pytest-6.2.4, py-1.10.0, pluggy-0.13.1 -- C:\\Users\\elisa\\anaconda3\\python.exe\n",
      "cachedir: .pytest_cache\n",
      "rootdir: C:\\Users\\elisa\\Desktop\\UFRN\\ed2\n",
      "plugins: anyio-2.2.0, sugar-0.9.5\n",
      "collecting ... collected 7 items\n",
      "\n",
      "test_data.py::test_1 PASSED                                              [ 14%]\n",
      "test_data.py::test_2 PASSED                                              [ 28%]\n",
      "test_data.py::test_3 PASSED                                              [ 42%]\n",
      "test_data.py::test_4 PASSED                                              [ 57%]\n",
      "test_data.py::test_5 PASSED                                              [ 71%]\n",
      "test_data.py::test_6 PASSED                                              [ 85%]\n",
      "test_data.py::test_7 PASSED                                              [100%]\n",
      "\n",
      "============================== warnings summary ===============================\n",
      "..\\..\\..\\anaconda3\\lib\\site-packages\\pyreadline\\py3k_compat.py:8\n",
      "  C:\\Users\\elisa\\anaconda3\\lib\\site-packages\\pyreadline\\py3k_compat.py:8: DeprecationWarning: Using or importing the ABCs from 'collections' instead of from 'collections.abc' is deprecated since Python 3.3, and in 3.10 it will stop working\n",
      "    return isinstance(x, collections.Callable)\n",
      "\n",
      "-- Docs: https://docs.pytest.org/en/stable/warnings.html\n",
      "======================== 7 passed, 1 warning in 0.07s =========================\n"
     ]
    }
   ],
   "source": [
    "!pytest . -vv"
   ]
  },
  {
   "cell_type": "code",
   "execution_count": null,
   "id": "b98aa81e",
   "metadata": {},
   "outputs": [],
   "source": []
  }
 ],
 "metadata": {
  "kernelspec": {
   "display_name": "Python 3 (ipykernel)",
   "language": "python",
   "name": "python3"
  },
  "language_info": {
   "codemirror_mode": {
    "name": "ipython",
    "version": 3
   },
   "file_extension": ".py",
   "mimetype": "text/x-python",
   "name": "python",
   "nbconvert_exporter": "python",
   "pygments_lexer": "ipython3",
   "version": "3.9.7"
  }
 },
 "nbformat": 4,
 "nbformat_minor": 5
}
